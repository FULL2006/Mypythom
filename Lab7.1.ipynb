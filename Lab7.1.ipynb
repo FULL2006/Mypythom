{
 "cells": [
  {
   "cell_type": "code",
   "execution_count": 1,
   "metadata": {},
   "outputs": [
    {
     "name": "stdout",
     "output_type": "stream",
     "text": [
      "\n",
      "รายงานการเงินสำหรับพนักงาน: ฟูล\n",
      "เงินเดือน: 150000.00 บาท\n",
      "เงินเดือนที่จ่ายจริง: 150500.00 บาท (รวมเงินล่วงเวลา 500.00 บาท)\n"
     ]
    }
   ],
   "source": [
    "def calculate_overtime(hourly, hours):\n",
    "    overtime_rate = 100  \n",
    "    normal_hours = 40  \n",
    "    overtime_threshold = 40 \n",
    "    overtime_multiplier = 1.5  \n",
    "\n",
    "    if hours_worked > normal_hours:\n",
    "        overtime = hours_worked - normal_hours\n",
    "        if overtime > overtime_threshold:\n",
    "            overtime_pay = overtime_threshold * overtime_rate + (overtime - overtime_threshold) * overtime_rate * overtime_multiplier\n",
    "        else:\n",
    "            overtime_pay = overtime * overtime_rate\n",
    "    else:\n",
    "        overtime_pay = 0\n",
    "\n",
    "    return overtime_pay\n",
    "\n",
    "def main():\n",
    "    name = input(\"ชื่อพนักงาน: \") \n",
    "    salary = float(input(\"เงินเดือนพนักงาน (บาท/เดือน): \"))\n",
    "    hours = float(input(\"ชั่วโมงการทำงานเฉลี่ยต่อสัปดาห์: \"))\n",
    "\n",
    "    hourly = salary / (4 * hours)  \n",
    "    \n",
    "    overtime_pay = calculate_overtime(hourly, hours)\n",
    "\n",
    "    total_pay = salary + overtime_pay\n",
    "\n",
    "    print(\"\\nรายงานการเงินสำหรับพนักงาน:\", name)\n",
    "    print(f\"เงินเดือน: {salary:.2f} บาท\")\n",
    "    print(f\"เงินเดือนที่จ่ายจริง: {total_pay:.2f} บาท (รวมเงินล่วงเวลา {overtime_pay:.2f} บาท)\")\n",
    "\n",
    "if __name__ == \"__main__\":\n",
    "    main()\n"
   ]
  }
 ],
 "metadata": {
  "kernelspec": {
   "display_name": "Python 3",
   "language": "python",
   "name": "python3"
  },
  "language_info": {
   "codemirror_mode": {
    "name": "ipython",
    "version": 3
   },
   "file_extension": ".py",
   "mimetype": "text/x-python",
   "name": "python",
   "nbconvert_exporter": "python",
   "pygments_lexer": "ipython3",
   "version": "3.12.4"
  }
 },
 "nbformat": 4,
 "nbformat_minor": 2
}
